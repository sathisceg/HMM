{
 "cells": [
  {
   "cell_type": "code",
   "execution_count": 3,
   "metadata": {},
   "outputs": [],
   "source": [
    "%matplotlib inline\n",
    "import numpy as np\n",
    "import matplotlib.pyplot as plt\n",
    "import seaborn as sns\n",
    "from sklearn import datasets\n",
    "\n",
    "from nltk.corpus import brown\n",
    "\n",
    "import nltk\n",
    "from nltk.corpus import brown\n",
    "import numpy as np\n",
    "from collections import Counter\n",
    "from collections import defaultdict\n",
    "from math import log\n",
    "import time\n",
    "import math\n",
    "import gensim\n",
    "from nltk.corpus import brown\n",
    "from gensim.models import Word2Vec"
   ]
  },
  {
   "cell_type": "code",
   "execution_count": 4,
   "metadata": {},
   "outputs": [],
   "source": [
    "size = int(len(brown.tagged_sents(categories='news')) * 0.8)\n",
    "size\n",
    "brown_tagged_sents = brown.tagged_sents(categories='news')"
   ]
  },
  {
   "cell_type": "markdown",
   "metadata": {},
   "source": [
    "Getting data"
   ]
  },
  {
   "cell_type": "code",
   "execution_count": 5,
   "metadata": {},
   "outputs": [],
   "source": [
    "train_sents = brown_tagged_sents[:size]\n",
    "test_sents = brown_tagged_sents[size:]"
   ]
  },
  {
   "cell_type": "code",
   "execution_count": 6,
   "metadata": {},
   "outputs": [],
   "source": [
    "# train_sents[0][1]\n",
    "token_tag_pair_train=[]\n",
    "for sentence in train_sents:\n",
    "#     print(sentence)\n",
    "    for ttu in sentence:\n",
    "#         print(ttu)\n",
    "        token_tag_pair_train.append(ttu)"
   ]
  },
  {
   "cell_type": "code",
   "execution_count": 17,
   "metadata": {},
   "outputs": [],
   "source": [
    "token_tag_pair_train\n",
    "tokens,taged = zip(*token_tag_pair_train)"
   ]
  },
  {
   "cell_type": "code",
   "execution_count": 132,
   "metadata": {},
   "outputs": [],
   "source": [
    "# print(tokens[0],taged[0])"
   ]
  },
  {
   "cell_type": "code",
   "execution_count": 34,
   "metadata": {},
   "outputs": [],
   "source": [
    "# print(len(tokens))\n",
    "# print(len(taged))"
   ]
  },
  {
   "cell_type": "code",
   "execution_count": 35,
   "metadata": {},
   "outputs": [],
   "source": [
    "tagged_list=list(taged)"
   ]
  },
  {
   "cell_type": "code",
   "execution_count": 36,
   "metadata": {},
   "outputs": [
    {
     "name": "stdout",
     "output_type": "stream",
     "text": [
      "206\n"
     ]
    }
   ],
   "source": [
    "tagged_list=list(set(tagged_list))\n",
    "\n",
    "print(len(tagged_list))"
   ]
  },
  {
   "cell_type": "markdown",
   "metadata": {},
   "source": [
    "Word2vec model"
   ]
  },
  {
   "cell_type": "code",
   "execution_count": 43,
   "metadata": {},
   "outputs": [
    {
     "name": "stdout",
     "output_type": "stream",
     "text": [
      "Brown corpus model saved.\n"
     ]
    }
   ],
   "source": [
    "\n",
    "sentences_news = brown.sents(categories='news')\n",
    "# model = gensim.models.Word2Vec(sentences_news, min_count=1)\n",
    "# model.save('brown_model')\n",
    "print(\"Brown corpus model saved.\")"
   ]
  },
  {
   "cell_type": "code",
   "execution_count": 46,
   "metadata": {},
   "outputs": [],
   "source": [
    "# sentences[3]\n",
    "model = gensim.models.Word2Vec.load('brown_model')\n",
    "# print (model.most_similar('boy'))\n",
    "# print(\"#############################################3\")\n",
    "# print (len(model['boy']))"
   ]
  },
  {
   "cell_type": "markdown",
   "metadata": {},
   "source": [
    "logistic regression"
   ]
  },
  {
   "cell_type": "code",
   "execution_count": 110,
   "metadata": {},
   "outputs": [],
   "source": [
    "def sigmoid(z):\n",
    "    return 1 / (1 + np.exp(-z))\n",
    "\n",
    "def loss(h, y):\n",
    "    return (-y * np.log(h) - (1 - y) * np.log(1 - h)).mean()\n",
    "\n",
    "\n",
    "def logistic(X, y):\n",
    "         \n",
    "    # weights initialization\n",
    "    theta = np.zeros(X.shape[1])\n",
    "\n",
    "    for i in range(30):\n",
    "        z = np.dot(X, theta)\n",
    "        h = sigmoid(z)\n",
    "        gradient = np.dot(X.T, (h - y)) / y.size\n",
    "        theta -= 0.1 * gradient\n",
    "\n",
    "        z = np.dot(X,theta)\n",
    "        h = sigmoid(z)\n",
    "        loss_v = loss(h, y)\n",
    "\n",
    "        if(i%10):\n",
    "            pass\n",
    "#             print(\"loss \",loss_v)\n",
    "\n",
    "\n",
    "    return theta\n"
   ]
  },
  {
   "cell_type": "markdown",
   "metadata": {},
   "source": [
    "creating one vs all label"
   ]
  },
  {
   "cell_type": "code",
   "execution_count": 111,
   "metadata": {},
   "outputs": [],
   "source": [
    "def set_labels(label):\n",
    "    X=[]\n",
    "    Y=[]\n",
    "    for ttp in token_tag_pair_train:\n",
    "#         print(t[1])\n",
    "        if(ttp[1]==label):\n",
    "#             print(ttp)\n",
    "            X.append(model[ttp[0]])\n",
    "            Y.append(1);\n",
    "        else:\n",
    "#             X.append(ttp[0])\n",
    "            X.append(model[ttp[0]])\n",
    "            Y.append(0);\n",
    "    \n",
    "    return X,Y"
   ]
  },
  {
   "cell_type": "code",
   "execution_count": 112,
   "metadata": {},
   "outputs": [
    {
     "name": "stderr",
     "output_type": "stream",
     "text": [
      "/home/sathis/.local/lib/python3.5/site-packages/ipykernel_launcher.py:12: DeprecationWarning: Call to deprecated `__getitem__` (Method will be removed in 4.0.0, use self.wv.__getitem__() instead).\n",
      "  if sys.path[0] == '':\n",
      "/home/sathis/.local/lib/python3.5/site-packages/ipykernel_launcher.py:8: DeprecationWarning: Call to deprecated `__getitem__` (Method will be removed in 4.0.0, use self.wv.__getitem__() instead).\n",
      "  \n"
     ]
    },
    {
     "name": "stdout",
     "output_type": "stream",
     "text": [
      "79795\n",
      "79795\n"
     ]
    }
   ],
   "source": [
    "\n",
    "\n",
    "\n",
    "\n",
    "# X,Y=set_labels(\"DT\")\n",
    "\n",
    "# print(len(X))\n",
    "# print(len(Y))\n",
    "\n",
    "# i=0\n",
    "# for t in tagged_list:\n",
    "    \n",
    "#     print(i,t)\n",
    "#     i+=1"
   ]
  },
  {
   "cell_type": "code",
   "execution_count": 113,
   "metadata": {},
   "outputs": [],
   "source": [
    "# X[0]"
   ]
  },
  {
   "cell_type": "code",
   "execution_count": null,
   "metadata": {},
   "outputs": [],
   "source": []
  },
  {
   "cell_type": "code",
   "execution_count": 114,
   "metadata": {},
   "outputs": [],
   "source": [
    "\n",
    "X = np.asarray(X)\n",
    "Y = np.asarray(Y)\n",
    "m1=logistic(X,Y)\n",
    "# X"
   ]
  },
  {
   "cell_type": "code",
   "execution_count": 115,
   "metadata": {},
   "outputs": [],
   "source": [
    "X = np.asarray(X)"
   ]
  },
  {
   "cell_type": "code",
   "execution_count": 116,
   "metadata": {},
   "outputs": [
    {
     "data": {
      "text/plain": [
       "array([-0.0143281 , -0.14216931, -0.13082532,  0.07674743,  0.03751024,\n",
       "       -0.0192537 ,  0.10530969,  0.02299568,  0.0332903 , -0.06239861,\n",
       "       -0.02775893, -0.01707777, -0.00593955, -0.06310597, -0.07461621,\n",
       "       -0.12237411, -0.1696348 , -0.03629353,  0.02409271,  0.02938129,\n",
       "        0.03914128, -0.13197241, -0.01851078,  0.02347515,  0.1299994 ,\n",
       "        0.06181602, -0.04789381, -0.03745378, -0.12499033, -0.08104145,\n",
       "       -0.12535763,  0.05842031,  0.00841246,  0.05944181, -0.0181949 ,\n",
       "        0.05583062, -0.02722489,  0.0944633 , -0.0735614 ,  0.0133223 ,\n",
       "        0.08689121, -0.03171949,  0.05850742,  0.00937041, -0.10463272,\n",
       "       -0.09268833, -0.08810611,  0.01258975, -0.0276544 , -0.09455128,\n",
       "        0.04041737,  0.12387407, -0.13891677, -0.0192964 ,  0.03450453,\n",
       "       -0.01434668,  0.00334137,  0.0757686 , -0.09515174,  0.02652472,\n",
       "        0.09058916, -0.09689046, -0.05073312, -0.00858528,  0.03315858,\n",
       "        0.03302471,  0.09037638,  0.10625027, -0.09187414,  0.05689468,\n",
       "       -0.01825209,  0.02766401,  0.01097193, -0.00307883,  0.10213531,\n",
       "        0.01990385,  0.0644454 , -0.16327256, -0.00277976, -0.06792599,\n",
       "        0.01682093, -0.11612173, -0.02169921,  0.13701014, -0.0502272 ,\n",
       "        0.06976131, -0.04960331, -0.07160529,  0.00926455, -0.07010079,\n",
       "       -0.0277249 ,  0.13034237,  0.0399639 , -0.0454769 ,  0.0629563 ,\n",
       "       -0.08116093,  0.02848458, -0.05639953, -0.03337882, -0.0437534 ])"
      ]
     },
     "execution_count": 116,
     "metadata": {},
     "output_type": "execute_result"
    }
   ],
   "source": [
    "m1"
   ]
  },
  {
   "cell_type": "code",
   "execution_count": 117,
   "metadata": {},
   "outputs": [],
   "source": [
    "def predict_prob(X,theta):    \n",
    "    return sigmoid(np.dot(X,theta))\n",
    "    \n",
    "def predict(X,theta):\n",
    "    return predict_prob(X,theta).round()"
   ]
  },
  {
   "cell_type": "code",
   "execution_count": 118,
   "metadata": {},
   "outputs": [
    {
     "data": {
      "text/plain": [
       "0.9919293188796291"
      ]
     },
     "execution_count": 118,
     "metadata": {},
     "output_type": "execute_result"
    }
   ],
   "source": [
    "\n",
    "preds = predict(X,m1)\n",
    "(preds == Y).mean()"
   ]
  },
  {
   "cell_type": "markdown",
   "metadata": {},
   "source": [
    "Creating one vs all model"
   ]
  },
  {
   "cell_type": "code",
   "execution_count": 120,
   "metadata": {},
   "outputs": [
    {
     "name": "stderr",
     "output_type": "stream",
     "text": [
      "/home/sathis/.local/lib/python3.5/site-packages/ipykernel_launcher.py:12: DeprecationWarning: Call to deprecated `__getitem__` (Method will be removed in 4.0.0, use self.wv.__getitem__() instead).\n",
      "  if sys.path[0] == '':\n",
      "/home/sathis/.local/lib/python3.5/site-packages/ipykernel_launcher.py:8: DeprecationWarning: Call to deprecated `__getitem__` (Method will be removed in 4.0.0, use self.wv.__getitem__() instead).\n",
      "  \n"
     ]
    }
   ],
   "source": [
    "i=0\n",
    "list_of_model=[]\n",
    "\n",
    "\n",
    "tagged_list=tagged_list[:3]\n",
    "\n",
    "for t in tagged_list:\n",
    "#     print(i,t)\n",
    "    X,Y=set_labels(t)    \n",
    "    X = np.asarray(X)\n",
    "    Y = np.asarray(Y)\n",
    "    m=logistic(X,Y)\n",
    "    list_of_model.append(m)    \n",
    "    i+=1\n",
    "    print(i)"
   ]
  },
  {
   "cell_type": "code",
   "execution_count": 125,
   "metadata": {},
   "outputs": [
    {
     "data": {
      "text/plain": [
       "array([ 0.15916301,  1.6339594 ,  1.5020187 , -0.8859577 , -0.4248019 ,\n",
       "        0.2190207 , -1.213853  , -0.26153135, -0.38434863,  0.7170494 ,\n",
       "        0.31501803,  0.19456813,  0.06541097,  0.7194808 ,  0.8512847 ,\n",
       "        1.4106065 ,  1.9549584 ,  0.42091617, -0.28043222, -0.337628  ,\n",
       "       -0.44907588,  1.5165097 ,  0.2141224 , -0.27610213, -1.5047    ,\n",
       "       -0.7066438 ,  0.5463149 ,  0.43357623,  1.432402  ,  0.9231266 ,\n",
       "        1.4457808 , -0.67904705, -0.09708947, -0.67605364,  0.20409805,\n",
       "       -0.63440734,  0.3109709 , -1.0896271 ,  0.8434325 , -0.15642618,\n",
       "       -1.0061816 ,  0.36208808, -0.67997277, -0.10551537,  1.203434  ,\n",
       "        1.07059   ,  1.0199058 , -0.14729822,  0.31282827,  1.0853956 ,\n",
       "       -0.48083252, -1.4153005 ,  1.6024846 ,  0.22166537, -0.39776775,\n",
       "        0.16438764, -0.04245919, -0.86300254,  1.0866425 , -0.31002873,\n",
       "       -1.0420072 ,  1.1140199 ,  0.58618987,  0.10296959, -0.37997308,\n",
       "       -0.377939  , -1.0374603 , -1.2127775 ,  1.0603414 , -0.6554118 ,\n",
       "        0.21393137, -0.31821156, -0.12181818,  0.03737749, -1.183874  ,\n",
       "       -0.2217982 , -0.74383426,  1.8834177 ,  0.03322873,  0.7755534 ,\n",
       "       -0.19332607,  1.338603  ,  0.25465482, -1.5696709 ,  0.5783652 ,\n",
       "       -0.7981678 ,  0.5794989 ,  0.82609504, -0.10083501,  0.809146  ,\n",
       "        0.31665725, -1.5000074 , -0.45844603,  0.52351594, -0.7170158 ,\n",
       "        0.9369879 , -0.32950494,  0.64758426,  0.37793872,  0.5037323 ],\n",
       "      dtype=float32)"
      ]
     },
     "execution_count": 125,
     "metadata": {},
     "output_type": "execute_result"
    }
   ],
   "source": [
    "len(list_of_model)\n",
    "\n",
    "X[0]"
   ]
  },
  {
   "cell_type": "code",
   "execution_count": 151,
   "metadata": {},
   "outputs": [
    {
     "name": "stdout",
     "output_type": "stream",
     "text": [
      "CD-HL 0.9945735948367692\n",
      "NR-HL 0.9945735948367692\n",
      "HVZ 0.9945735948367692\n"
     ]
    }
   ],
   "source": [
    "\n",
    "i=0\n",
    "for m in list_of_model:\n",
    "    preds = predict(X,m)\n",
    "    a=(preds == Y).mean()\n",
    "    print(tagged_list[i],a)\n",
    "    i+=1\n",
    "    \n",
    "    "
   ]
  },
  {
   "cell_type": "code",
   "execution_count": 130,
   "metadata": {},
   "outputs": [
    {
     "data": {
      "text/plain": [
       "array([-0.01558606, -0.15591241, -0.14347647,  0.08422861,  0.04104375,\n",
       "       -0.02107251,  0.11544738,  0.02525268,  0.03643361, -0.06829607,\n",
       "       -0.03049497, -0.01870151, -0.00645748, -0.06925587, -0.08194224,\n",
       "       -0.1342714 , -0.18615963, -0.03978845,  0.02647112,  0.03225507,\n",
       "        0.04294609, -0.14478287, -0.02028107,  0.02576746,  0.14258147,\n",
       "        0.06783576, -0.0525803 , -0.04112634, -0.13698513, -0.08893065,\n",
       "       -0.13751993,  0.06416672,  0.00937443,  0.06506199, -0.0199872 ,\n",
       "        0.06121564, -0.02980908,  0.10373997, -0.08069145,  0.01465044,\n",
       "        0.09527463, -0.03469723,  0.06411822,  0.01035605, -0.11478673,\n",
       "       -0.10166932, -0.09664239,  0.01369215, -0.03036438, -0.10359691,\n",
       "        0.04439752,  0.13580604, -0.15238811, -0.02122345,  0.0377618 ,\n",
       "       -0.01571364,  0.00359297,  0.08306177, -0.1044142 ,  0.02920371,\n",
       "        0.09930944, -0.10630466, -0.05563959, -0.00941889,  0.0363714 ,\n",
       "        0.03622754,  0.09912169,  0.11656997, -0.10085772,  0.06246095,\n",
       "       -0.02003559,  0.03032454,  0.01203458, -0.00322115,  0.1119977 ,\n",
       "        0.02191049,  0.07077297, -0.17904239, -0.0031546 , -0.07446733,\n",
       "        0.01858031, -0.12751235, -0.02378529,  0.15031974, -0.05511328,\n",
       "        0.07651198, -0.05441755, -0.07853736,  0.01020417, -0.07698468,\n",
       "       -0.03028575,  0.14293221,  0.04377144, -0.04987489,  0.06911897,\n",
       "       -0.08904583,  0.03129845, -0.06186088, -0.03651116, -0.04804202])"
      ]
     },
     "execution_count": 130,
     "metadata": {},
     "output_type": "execute_result"
    }
   ],
   "source": [
    "# list_of_model[0]"
   ]
  },
  {
   "cell_type": "code",
   "execution_count": 131,
   "metadata": {},
   "outputs": [
    {
     "data": {
      "text/plain": [
       "array([-0.0156092 , -0.15611381, -0.14365713,  0.08433859,  0.0410974 ,\n",
       "       -0.02110035,  0.11559681,  0.02528384,  0.03648284, -0.06838298,\n",
       "       -0.03053386, -0.01872349, -0.00646319, -0.06934472, -0.08204413,\n",
       "       -0.13444396, -0.18639626, -0.03984102,  0.02650359,  0.03229457,\n",
       "        0.04300281, -0.14496802, -0.02030777,  0.02579952,  0.14276489,\n",
       "        0.06792123, -0.05264642, -0.04117954, -0.13715952, -0.08904269,\n",
       "       -0.13769602,  0.06424806,  0.00938608,  0.06514802, -0.0200151 ,\n",
       "        0.06129464, -0.02984672,  0.10386916, -0.08079533,  0.01466719,\n",
       "        0.09539759, -0.03474118,  0.06420152,  0.01037073, -0.11493379,\n",
       "       -0.10180061, -0.09676568,  0.01371225, -0.0304019 , -0.10373183,\n",
       "        0.04445383,  0.13597888, -0.15258298, -0.02124902,  0.03781199,\n",
       "       -0.01573576,  0.0035986 ,  0.08316658, -0.10454596,  0.02923982,\n",
       "        0.09943825, -0.10643998, -0.05570998, -0.00943209,  0.03641903,\n",
       "        0.03627488,  0.09924827,  0.11671683, -0.10098582,  0.06254145,\n",
       "       -0.02005938,  0.03036175,  0.01205091, -0.00322924,  0.11214068,\n",
       "        0.02193821,  0.070861  , -0.17927292, -0.00315655, -0.07455982,\n",
       "        0.018601  , -0.12767191, -0.02381615,  0.15051328, -0.05518278,\n",
       "        0.07660862, -0.05448712, -0.07864047,  0.01021592, -0.07708443,\n",
       "       -0.03032574,  0.14311623,  0.04382496, -0.04993791,  0.06920768,\n",
       "       -0.08916071,  0.03133777, -0.06193921, -0.03655672, -0.04810264])"
      ]
     },
     "execution_count": 131,
     "metadata": {},
     "output_type": "execute_result"
    }
   ],
   "source": [
    "# list_of_model[1]"
   ]
  },
  {
   "cell_type": "code",
   "execution_count": null,
   "metadata": {},
   "outputs": [],
   "source": []
  },
  {
   "cell_type": "code",
   "execution_count": 141,
   "metadata": {},
   "outputs": [
    {
     "data": {
      "text/plain": [
       "'RB'"
      ]
     },
     "execution_count": 141,
     "metadata": {},
     "output_type": "execute_result"
    }
   ],
   "source": [
    "test_sents[0][0][0]"
   ]
  },
  {
   "cell_type": "code",
   "execution_count": 142,
   "metadata": {},
   "outputs": [],
   "source": [
    "# train_sents[0][1]\n",
    "token_tag_pair_test=[]\n",
    "for sentence in test_sents:\n",
    "#     print(sentence)\n",
    "    for ttu in sentence:\n",
    "#         print(ttu)\n",
    "        token_tag_pair_test.append(ttu)"
   ]
  },
  {
   "cell_type": "code",
   "execution_count": 152,
   "metadata": {},
   "outputs": [],
   "source": [
    "def set_labels_test(label):\n",
    "    X=[]\n",
    "    Y=[]\n",
    "    for ttp in token_tag_pair_test:\n",
    "#         print(t[1])\n",
    "        if(ttp[1]==label):\n",
    "#             print(ttp)\n",
    "            X.append(model[ttp[0]])\n",
    "            Y.append(1);\n",
    "        else:\n",
    "#             X.append(ttp[0])\n",
    "            X.append(model[ttp[0]])\n",
    "            Y.append(0);\n",
    "    \n",
    "    return X,Y"
   ]
  },
  {
   "cell_type": "code",
   "execution_count": 155,
   "metadata": {},
   "outputs": [],
   "source": [
    "\n",
    "\n",
    "def find_model(X,Y):\n",
    "    i=0\n",
    "    for m in list_of_model:\n",
    "        preds = predict(X,m)\n",
    "        a=(preds == Y).mean()\n",
    "        print(tagged_list[i],a)\n",
    "        i+=1"
   ]
  },
  {
   "cell_type": "code",
   "execution_count": 156,
   "metadata": {},
   "outputs": [
    {
     "name": "stderr",
     "output_type": "stream",
     "text": [
      "/home/sathis/.local/lib/python3.5/site-packages/ipykernel_launcher.py:12: DeprecationWarning: Call to deprecated `__getitem__` (Method will be removed in 4.0.0, use self.wv.__getitem__() instead).\n",
      "  if sys.path[0] == '':\n",
      "/home/sathis/.local/lib/python3.5/site-packages/ipykernel_launcher.py:8: DeprecationWarning: Call to deprecated `__getitem__` (Method will be removed in 4.0.0, use self.wv.__getitem__() instead).\n",
      "  \n"
     ]
    },
    {
     "name": "stdout",
     "output_type": "stream",
     "text": [
      "CD-HL 0.9954236716604846\n",
      "NR-HL 0.9954236716604846\n",
      "HVZ 0.9954236716604846\n",
      "CD-HL 0.9955681872922588\n",
      "NR-HL 0.9955681872922588\n",
      "HVZ 0.9955681872922588\n",
      "CD-HL 0.9929669059203237\n",
      "NR-HL 0.9929669059203237\n",
      "HVZ 0.9929669059203237\n"
     ]
    }
   ],
   "source": [
    "\n",
    "\n",
    "\n",
    "\n",
    "\n",
    "for t in tagged_list:\n",
    "    X,Y=set_labels_test(t)    \n",
    "    X = np.asarray(X)\n",
    "    Y = np.asarray(Y)\n",
    "    find_model(X,Y)\n",
    "    \n",
    "    \n",
    "    "
   ]
  },
  {
   "cell_type": "code",
   "execution_count": null,
   "metadata": {},
   "outputs": [],
   "source": []
  }
 ],
 "metadata": {
  "kernelspec": {
   "display_name": "Python 3",
   "language": "python",
   "name": "python3"
  },
  "language_info": {
   "codemirror_mode": {
    "name": "ipython",
    "version": 3
   },
   "file_extension": ".py",
   "mimetype": "text/x-python",
   "name": "python",
   "nbconvert_exporter": "python",
   "pygments_lexer": "ipython3",
   "version": "3.5.2"
  }
 },
 "nbformat": 4,
 "nbformat_minor": 2
}
